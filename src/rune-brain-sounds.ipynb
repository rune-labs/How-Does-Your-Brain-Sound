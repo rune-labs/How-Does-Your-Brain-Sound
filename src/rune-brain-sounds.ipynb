{
 "cells": [
  {
   "cell_type": "markdown",
   "metadata": {},
   "source": [
    "# Download RC+S data\n",
    "\n",
    "This template walks through a simple example of downloading raw time series and spectrogram data, given some time interval of interest. After we obtain the raw time series, we will also locally compute our own spectrogram and compare to the API spectrogram."
   ]
  },
  {
   "cell_type": "code",
   "execution_count": 13,
   "metadata": {
    "ExecuteTime": {
     "end_time": "2020-11-18T01:57:08.874042Z",
     "start_time": "2020-11-18T01:57:08.403059Z"
    }
   },
   "outputs": [],
   "source": [
    "import io\n",
    "import os\n",
    "import datetime\n",
    "import pandas as pd\n",
    "import matplotlib.pyplot as plt\n",
    "from runeq import Config, stream\n",
    "from scipy import stats\n",
    "import scipy.fft\n",
    "import numpy as np\n",
    "import musicalbeeps\n",
    "from miditime.miditime import MIDITime\n",
    "import aubio"
   ]
  },
  {
   "cell_type": "markdown",
   "metadata": {},
   "source": [
    "## Functions for pulling raw time series and spectrogram data with the API\n",
    "\n",
    "`get_neural_time_series` and `get_spectrogram` will pull data with the Stream API and save as CSVs. These wrapper functions can be easily modified to access the other API endpoints."
   ]
  },
  {
   "cell_type": "code",
   "execution_count": 3,
   "metadata": {},
   "outputs": [],
   "source": [
    "def get_neural_time_series(client, params, save_filepath):\n",
    "    \"\"\"\n",
    "    Makes API calls for raw time series data\n",
    "    Saves as a CSV\n",
    "\n",
    "    Inputs: client\n",
    "            API parameters (see API documentation)\n",
    "            save_filepath, ex. './new_time_series_file'\n",
    "    Outputs: saved CSV file\n",
    "    \"\"\"\n",
    "\n",
    "    accessor = client.LFP(**params)\n",
    "\n",
    "    # loop through pages of API calls and appends to a single dataframe\n",
    "    df = pd.DataFrame()`get_neural_time_series` and `get_spectrogram` will pull data with the Stream API and save as CSVs. These wrapper functions can be easily modified to access the other API endpoints.\n",
    "\n",
    "    for page in accessor.iter_csv_text():\n",
    "        page_df = pd.read_csv(io.StringIO(page))\n",
    "        df = df.append(page_df, ignore_index=True)\n",
    "\n",
    "    # save dataframe to a csv\n",
    "    df.to_csv(save_filepath, index=False)\n",
    "\n",
    "    return df"
   ]
  },
  {
   "cell_type": "code",
   "execution_count": 4,
   "metadata": {
    "ExecuteTime": {
     "end_time": "2020-11-18T01:57:08.891746Z",
     "start_time": "2020-11-18T01:57:08.887804Z"
    }
   },
   "outputs": [],
   "source": [
    "# set up client\n",
    "\n",
    "cfg = Config()\n",
    "client = stream.V1Client(cfg)"
   ]
  },
  {
   "cell_type": "markdown",
   "metadata": {},
   "source": [
    "## 2. Specify endpoint parameters"
   ]
  },
  {
   "cell_type": "code",
   "execution_count": 5,
   "metadata": {
    "ExecuteTime": {
     "end_time": "2020-11-18T01:57:08.899224Z",
     "start_time": "2020-11-18T01:57:08.897335Z"
    }
   },
   "outputs": [],
   "source": [
    "# specify base path for saving data\n",
    "\n",
    "BASE_PATH = '~/Documents/api_data/'"
   ]
  },
  {
   "cell_type": "code",
   "execution_count": null,
   "metadata": {},
   "outputs": [],
   "source": [
    "# retrieve neural time series and spectrogram data\n",
    "lfp_params = {\n",
    "    'patient_id': 'rcs07',\n",
    "    'device_id': 'NPC700403H',\n",
    "    'start_time': 1593147440.545,\n",
    "    'end_time': 1593154284.838,\n",
    "    'channels': '0,1,2,3'\n",
    "}\n",
    "time_series = get_neural_time_series(\n",
    "    client,\n",
    "    lfp_params,\n",
    "    os.path.join(BASE_PATH, 'nb01_ex01_neural_time_series')\n",
    ")\n",
    "spectro = get_spectrogram(\n",
    "    client,\n",
    "    lfp_params,\n",
    "    os.path.join(BASE_PATH, 'nb01_ex01_spectrogram'))"
   ]
  },
  {
   "cell_type": "code",
   "execution_count": 6,
   "metadata": {},
   "outputs": [],
   "source": [
    "time_series = pd.read_csv(\n",
    "    os.path.join(BASE_PATH, 'nb01_ex01_neural_time_series')\n",
    ")\n",
    "# main_spectro = pd.read_csv(\n",
    "#     os.path.join(BASE_PATH, 'rcs07_device-NPC700403H_lfp_0.csv')\n",
    "# )"
   ]
  },
  {
   "cell_type": "markdown",
   "metadata": {},
   "source": [
    "## 2. Plot API spectrogram and locally computed spectrogram\n",
    "\n",
    "Note: In this notebook, plots are static. Use magic function `%matplotlib notebook` for interactive zooming and panning."
   ]
  },
  {
   "cell_type": "code",
   "execution_count": 84,
   "metadata": {},
   "outputs": [],
   "source": [
    "# generate some cleaned arrays for plotting the spectrogram\n",
    "\n",
    "# create an array with only the power values\n",
    "Sxx_api = spectro.drop(labels=['timestamp'], axis=1).values\n",
    "Sxx_api = Sxx_api.transpose()\n",
    "\n",
    "# z-score for plotting (optional)\n",
    "Sxx_api = stats.zscore(Sxx_api, axis=0)\n",
    "\n",
    "# obtain frequencies from column headers, drop 0 hz\n",
    "f_api = [int(freq) for freq in list([0, 1, 2, 3])]\n",
    "\n",
    "# change unix to date time stamps for plotting\n",
    "t_api = pd.to_datetime(spectro.timestamp, unit='s')"
   ]
  },
  {
   "cell_type": "code",
   "execution_count": 88,
   "metadata": {},
   "outputs": [
    {
     "name": "stderr",
     "output_type": "stream",
     "text": [
      "<ipython-input-88-9e59500441f5>:9: MatplotlibDeprecationWarning: shading='flat' when X and Y have the same dimensions as C is deprecated since 3.3.  Either specify the corners of the quadrilaterals with X and Y, or pass shading='auto', 'nearest' or 'gouraud', or set rcParams['pcolor.shading'].  This will become an error two minor releases later.\n",
      "  ax.pcolormesh(t_api, f_api, Sxx_api)\n"
     ]
    },
    {
     "data": {
      "image/png": "[encoded data removed]",
      "text/plain": [
       "<Figure size 1008x576 with 1 Axes>"
      ]
     },
     "metadata": {
      "needs_background": "light"
     },
     "output_type": "display_data"
    }
   ],
   "source": [
    "# plot\n",
    "fig, ax = plt.subplots(1, figsize=(14, 8), sharex=True)\n",
    "\n",
    "# plot_time = pd.to_datetime(time_series.timestamp, unit='s')\n",
    "# ax[0].plot(plot_time, time_series['channel.0'])\n",
    "# ax[0].set(xlabel='Time', ylabel='Voltage (V)')\n",
    "# ax[0].set_title('Raw Time Series')\n",
    "\n",
    "ax.pcolormesh(t_api, f_api, Sxx_api)\n",
    "ax.set(xlabel='Time', ylabel='Frequency [Hz]')\n",
    "ax.set_title('Spectrogram')\n",
    "\n",
    "plt.tight_layout()"
   ]
  },
  {
   "cell_type": "markdown",
   "metadata": {},
   "source": [
    "## Derive frequency components from time series and upconvert them into musical note range (16 Hz to 8000 Hz)\n",
    "\n",
    "We decided to stick around 200 Hz to 800 Hz range"
   ]
  },
  {
   "cell_type": "code",
   "execution_count": 7,
   "metadata": {},
   "outputs": [
    {
     "data": {
      "text/html": [
       "<div>\n",
       "<style scoped>\n",
       "    .dataframe tbody tr th:only-of-type {\n",
       "        vertical-align: middle;\n",
       "    }\n",
       "\n",
       "    .dataframe tbody tr th {\n",
       "        vertical-align: top;\n",
       "    }\n",
       "\n",
       "    .dataframe thead th {\n",
       "        text-align: right;\n",
       "    }\n",
       "</style>\n",
       "<table border=\"1\" class=\"dataframe\">\n",
       "  <thead>\n",
       "    <tr style=\"text-align: right;\">\n",
       "      <th></th>\n",
       "      <th>timestamp</th>\n",
       "      <th>channel.0</th>\n",
       "      <th>channel.1</th>\n",
       "      <th>channel.2</th>\n",
       "      <th>channel.3</th>\n",
       "    </tr>\n",
       "  </thead>\n",
       "  <tbody>\n",
       "    <tr>\n",
       "      <th>0</th>\n",
       "      <td>1.593147e+09</td>\n",
       "      <td>-0.000178</td>\n",
       "      <td>-0.000166</td>\n",
       "      <td>-0.000237</td>\n",
       "      <td>-0.000127</td>\n",
       "    </tr>\n",
       "    <tr>\n",
       "      <th>1</th>\n",
       "      <td>1.593147e+09</td>\n",
       "      <td>-0.000176</td>\n",
       "      <td>-0.000163</td>\n",
       "      <td>-0.000234</td>\n",
       "      <td>-0.000122</td>\n",
       "    </tr>\n",
       "    <tr>\n",
       "      <th>2</th>\n",
       "      <td>1.593147e+09</td>\n",
       "      <td>-0.000179</td>\n",
       "      <td>-0.000165</td>\n",
       "      <td>-0.000226</td>\n",
       "      <td>-0.000119</td>\n",
       "    </tr>\n",
       "    <tr>\n",
       "      <th>3</th>\n",
       "      <td>1.593147e+09</td>\n",
       "      <td>-0.000181</td>\n",
       "      <td>-0.000166</td>\n",
       "      <td>-0.000228</td>\n",
       "      <td>-0.000131</td>\n",
       "    </tr>\n",
       "    <tr>\n",
       "      <th>4</th>\n",
       "      <td>1.593147e+09</td>\n",
       "      <td>-0.000187</td>\n",
       "      <td>-0.000171</td>\n",
       "      <td>-0.000229</td>\n",
       "      <td>-0.000135</td>\n",
       "    </tr>\n",
       "    <tr>\n",
       "      <th>...</th>\n",
       "      <td>...</td>\n",
       "      <td>...</td>\n",
       "      <td>...</td>\n",
       "      <td>...</td>\n",
       "      <td>...</td>\n",
       "    </tr>\n",
       "    <tr>\n",
       "      <th>1533793</th>\n",
       "      <td>1.593154e+09</td>\n",
       "      <td>-0.000173</td>\n",
       "      <td>-0.000157</td>\n",
       "      <td>-0.000224</td>\n",
       "      <td>-0.000148</td>\n",
       "    </tr>\n",
       "    <tr>\n",
       "      <th>1533794</th>\n",
       "      <td>1.593154e+09</td>\n",
       "      <td>-0.000171</td>\n",
       "      <td>-0.000156</td>\n",
       "      <td>-0.000201</td>\n",
       "      <td>-0.000135</td>\n",
       "    </tr>\n",
       "    <tr>\n",
       "      <th>1533795</th>\n",
       "      <td>1.593154e+09</td>\n",
       "      <td>-0.000172</td>\n",
       "      <td>-0.000158</td>\n",
       "      <td>-0.000206</td>\n",
       "      <td>-0.000129</td>\n",
       "    </tr>\n",
       "    <tr>\n",
       "      <th>1533796</th>\n",
       "      <td>1.593154e+09</td>\n",
       "      <td>-0.000168</td>\n",
       "      <td>-0.000154</td>\n",
       "      <td>-0.000193</td>\n",
       "      <td>-0.000127</td>\n",
       "    </tr>\n",
       "    <tr>\n",
       "      <th>1533797</th>\n",
       "      <td>1.593154e+09</td>\n",
       "      <td>-0.000174</td>\n",
       "      <td>-0.000160</td>\n",
       "      <td>-0.000187</td>\n",
       "      <td>-0.000117</td>\n",
       "    </tr>\n",
       "  </tbody>\n",
       "</table>\n",
       "<p>1533798 rows × 5 columns</p>\n",
       "</div>"
      ],
      "text/plain": [
       "            timestamp  channel.0  channel.1  channel.2  channel.3\n",
       "0        1.593147e+09  -0.000178  -0.000166  -0.000237  -0.000127\n",
       "1        1.593147e+09  -0.000176  -0.000163  -0.000234  -0.000122\n",
       "2        1.593147e+09  -0.000179  -0.000165  -0.000226  -0.000119\n",
       "3        1.593147e+09  -0.000181  -0.000166  -0.000228  -0.000131\n",
       "4        1.593147e+09  -0.000187  -0.000171  -0.000229  -0.000135\n",
       "...               ...        ...        ...        ...        ...\n",
       "1533793  1.593154e+09  -0.000173  -0.000157  -0.000224  -0.000148\n",
       "1533794  1.593154e+09  -0.000171  -0.000156  -0.000201  -0.000135\n",
       "1533795  1.593154e+09  -0.000172  -0.000158  -0.000206  -0.000129\n",
       "1533796  1.593154e+09  -0.000168  -0.000154  -0.000193  -0.000127\n",
       "1533797  1.593154e+09  -0.000174  -0.000160  -0.000187  -0.000117\n",
       "\n",
       "[1533798 rows x 5 columns]"
      ]
     },
     "execution_count": 7,
     "metadata": {},
     "output_type": "execute_result"
    }
   ],
   "source": [
    "time_series"
   ]
  },
  {
   "cell_type": "code",
   "execution_count": 20,
   "metadata": {},
   "outputs": [
    {
     "data": {
      "image/png": "[encoded data removed]",
      "text/plain": [
       "<Figure size 432x288 with 1 Axes>"
      ]
     },
     "metadata": {
      "needs_background": "light"
     },
     "output_type": "display_data"
    }
   ],
   "source": [
    "channel0_time = time_series['channel.0']\n",
    "magspec = plt.magnitude_spectrum(channel0_time, 250, scale='dB')  # returns a tuple with the frequencies and associated magnitudes\n",
    "freqs = magspec[1]"
   ]
  },
  {
   "cell_type": "code",
   "execution_count": 9,
   "metadata": {},
   "outputs": [],
   "source": [
    "player = musicalbeeps.Player(volume = 0.3,\n",
    "                            mute_output = False)\n",
    "\n",
    "# Examples:\n",
    "\n",
    "# To play an A on default octave n°4 for 0.2 second\n",
    "\n",
    "def play_notes(array, sec):\n",
    "    for note in [aubio.freq2note(n) for n in array]:\n",
    "        if '#' in note:\n",
    "            n = note.split('#')\n",
    "            note = n[0] + n[1] + '#'\n",
    "        player.play_note(note, sec)"
   ]
  },
  {
   "cell_type": "markdown",
   "metadata": {},
   "source": [
    "## Convert frequencies to musical notes"
   ]
  },
  {
   "cell_type": "code",
   "execution_count": 21,
   "metadata": {},
   "outputs": [
    {
     "name": "stdout",
     "output_type": "stream",
     "text": [
      "channel: 0\n",
      "['G#3', 'G#3', 'G#3', 'A3', 'B3', 'A#3', 'A#3', 'C#4', 'B3', 'C4', 'C#4', 'A3', 'A3', 'A#3', 'A#3', 'B3', 'D#4', 'E4', 'D#4', 'C4', 'E4', 'E4', 'F#5', 'D4', 'C#4', 'C4', 'D4', 'C#5', 'D4', 'D4', 'G4', 'F#4', 'D#4', 'C#4', 'C4', 'B3', 'C4', 'E4', 'A4', 'F4', 'F4', 'E4', 'A#3', 'A3', 'B3', 'A5', 'G3', 'G3', 'G#3', 'A3']\n",
      "channel: 1\n",
      "['G#3', 'G#3', 'G#3', 'A3', 'B3', 'B3', 'A#3', 'B3', 'A#3', 'C#4', 'C#4', 'A3', 'A3', 'A#3', 'A#3', 'A#3', 'D4', 'C#4', 'C4', 'B3', 'D4', 'G4', 'C4', 'C4', 'B4', 'F#4', 'G#4', 'F#4', 'E4', 'D4', 'D#4', 'F4', 'E4', 'E4', 'E4', 'E4', 'D4', 'C#4', 'F4', 'F#4', 'E4', 'F#4', 'F4', 'A#3', 'A3', 'B3', 'G3', 'G3', 'G#3', 'G#3']\n",
      "channel: 2\n",
      "['G#3', 'G#3', 'G#3', 'G#3', 'G#3', 'A3', 'G#3', 'G#3', 'G#3', 'G#3', 'G#3', 'G#3', 'G#3', 'G#3', 'A3', 'A#3', 'A3', 'A#3', 'A3', 'A3', 'G#3', 'G#3', 'G#3', 'G#3', 'B3', 'A3', 'B3', 'B3', 'B3', 'A3', 'A3', 'B3', 'A#3', 'A3', 'A#3', 'A#3', 'A#3', 'C4', 'D4', 'A4', 'F#4', 'D4', 'E5', 'D4', 'C4', 'D4', 'G4', 'G3', 'G3', 'G#3', 'G#3']\n",
      "channel: 3\n",
      "['G#3', 'G#3', 'G#3', 'G#3', 'G#3', 'E4', 'A3', 'A3', 'G#3', 'G#3', 'G#3', 'A3', 'G#3', 'G#3', 'A3', 'A#3', 'A3', 'A3', 'A#3', 'A#3', 'A#3', 'A3', 'A3', 'A3', 'A3', 'E4', 'G#4', 'D4', 'D4', 'G#4', 'B3', 'A#3', 'D#4', 'A#3', 'B3', 'C#4', 'C4', 'B3', 'E4', 'C#4', 'D4', 'F#4', 'D4', 'C4', 'E4', 'G#4', 'G3', 'G3', 'G#3', 'G#3']\n"
     ]
    },
    {
     "data": {
      "image/png": "[encoded data removed]",
      "text/plain": [
       "<Figure size 432x288 with 1 Axes>"
      ]
     },
     "metadata": {
      "needs_background": "light"
     },
     "output_type": "display_data"
    }
   ],
   "source": [
    "for num in range(4):\n",
    "    print(f\"channel: {num}\")\n",
    "    n100_time = time_series[f'channel.{num}'][0:100]\n",
    "    magspec = plt.magnitude_spectrum(n100_time, 250, scale='dB')\n",
    "    mg = magspec[0][:100]\n",
    "    n100_roll = np.roll(mg, 200)\n",
    "    scaled = [((f/(f*f))/(5e4)) + 200  for f in n100_roll[0:100]]\n",
    "    notes = [aubio.freq2note(n) for n in scaled if n < 900]\n",
    "    print(notes)\n",
    "#     play_notes(scaled, 0.025)"
   ]
  },
  {
   "cell_type": "code",
   "execution_count": null,
   "metadata": {},
   "outputs": [],
   "source": []
  }
 ],
 "metadata": {
  "kernelspec": {
   "display_name": "Python 3",
   "language": "python",
   "name": "python3"
  },
  "language_info": {
   "codemirror_mode": {
    "name": "ipython",
    "version": 3
   },
   "file_extension": ".py",
   "mimetype": "text/x-python",
   "name": "python",
   "nbconvert_exporter": "python",
   "pygments_lexer": "ipython3",
   "version": "3.8.5"
  },
  "varInspector": {
   "cols": {
    "lenName": 16,
    "lenType": 16,
    "lenVar": 40
   },
   "kernels_config": {
    "python": {
     "delete_cmd_postfix": "",
     "delete_cmd_prefix": "del ",
     "library": "var_list.py",
     "varRefreshCmd": "print(var_dic_list())"
    },
    "r": {
     "delete_cmd_postfix": ") ",
     "delete_cmd_prefix": "rm(",
     "library": "var_list.r",
     "varRefreshCmd": "cat(var_dic_list()) "
    }
   },
   "types_to_exclude": [
    "module",
    "function",
    "builtin_function_or_method",
    "instance",
    "_Feature"
   ],
   "window_display": false
  }
 },
 "nbformat": 4,
 "nbformat_minor": 4
}
